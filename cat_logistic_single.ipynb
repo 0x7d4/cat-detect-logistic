{
  "nbformat": 4,
  "nbformat_minor": 0,
  "metadata": {
    "colab": {
      "provenance": [],
      "gpuType": "T4"
    },
    "kernelspec": {
      "name": "python3",
      "display_name": "Python 3"
    },
    "language_info": {
      "name": "python"
    },
    "accelerator": "GPU"
  },
  "cells": [
    {
      "cell_type": "code",
      "execution_count": 41,
      "metadata": {
        "id": "e5aLDcSDhsXz",
        "colab": {
          "base_uri": "https://localhost:8080/"
        },
        "outputId": "ee96ac24-9839-42e6-cb5f-3e740bd35d8e"
      },
      "outputs": [
        {
          "output_type": "stream",
          "name": "stdout",
          "text": [
            "[gpu(id=0)]\n"
          ]
        }
      ],
      "source": [
        "import jax\n",
        "import jax.numpy as jnp\n",
        "import h5py\n",
        "from google.colab import drive\n",
        "from typing import Optional, Callable\n",
        "import matplotlib.pyplot as plt\n",
        "print(jax.devices())"
      ]
    },
    {
      "cell_type": "markdown",
      "source": [
        "# Data Preprocessing\n",
        "keep in mind you have `train_catvnoncat.h5` and `test_catvnoncat.h5` in your `sample_data` directory."
      ],
      "metadata": {
        "id": "eQyIwuV2oeVg"
      }
    },
    {
      "cell_type": "code",
      "source": [
        "def get_dataset():\n",
        "  r = \"sample_data\"\n",
        "  train_path = f\"{r}/train_catvnoncat.h5\"\n",
        "  test_path = f\"{r}/test_catvnoncat.h5\"\n",
        "  f_train, f_test = h5py.File(train_path, \"r\"), h5py.File(test_path, \"r\"),\n",
        "  x_train_orig, y_train_orig = jnp.array(f_train['train_set_x']), jnp.array(f_train[\"train_set_y\"]).reshape(1, -1)\n",
        "  x_test_orig, y_test_orig = jnp.array(f_test['test_set_x']), jnp.array(f_test[\"test_set_y\"]).reshape(1, -1)\n",
        "  return x_train_orig, y_train_orig, x_test_orig, y_test_orig"
      ],
      "metadata": {
        "id": "Kc3iyko-rMoa"
      },
      "execution_count": 5,
      "outputs": []
    },
    {
      "cell_type": "code",
      "source": [
        "x_train_orig, y_train_orig, x_test_orig, y_test_orig = get_dataset()\n",
        "\n",
        "x_train_flatten = x_train_orig.reshape(x_train_orig.shape[0], -1).T\n",
        "x_test_flatten = x_test_orig.reshape(x_test_orig.shape[0], -1).T\n",
        "\n",
        "x_train_norm = x_train_flatten / 255.\n",
        "x_test_norm = x_test_flatten / 255.\n",
        "\n",
        "print(x_train_norm.shape)\n",
        "plt.imshow(x_train_orig[25])"
      ],
      "metadata": {
        "colab": {
          "base_uri": "https://localhost:8080/",
          "height": 468
        },
        "id": "6WK3NubspaXF",
        "outputId": "872d4abf-1c66-45b9-9e3b-86f522bb4fc9"
      },
      "execution_count": 42,
      "outputs": [
        {
          "output_type": "stream",
          "name": "stdout",
          "text": [
            "(12288, 209)\n"
          ]
        },
        {
          "output_type": "execute_result",
          "data": {
            "text/plain": [
              "<matplotlib.image.AxesImage at 0x7d13c945bb50>"
            ]
          },
          "metadata": {},
          "execution_count": 42
        },
        {
          "output_type": "display_data",
          "data": {
            "text/plain": [
              "<Figure size 640x480 with 1 Axes>"
            ],
            "image/png": "[encoded data removed]"
          },
          "metadata": {}
        }
      ]
    },
    {
      "cell_type": "markdown",
      "source": [
        "# Jax Implementaion\n",
        "\n",
        "This version uses Jax library and is faster than the other implementaions thanks to the JIT compilation."
      ],
      "metadata": {
        "id": "F3ukcgicmCWI"
      }
    },
    {
      "cell_type": "code",
      "source": [
        "def sigmoid(z):\n",
        "  return 1 / (1 + jnp.exp(-z))\n",
        "\n",
        "@jax.jit\n",
        "def train_step(w1, b1, x, y):\n",
        "  def logistic_loss(w1, b1, x, y):\n",
        "    m = x.shape[1]\n",
        "    a = sigmoid(jnp.dot(w1.T, x) + b1)\n",
        "    e = a - y\n",
        "    l = -(jnp.sum(jnp.dot(y, jnp.log(a).T) + jnp.dot((1 - y), jnp.log(1 - a).T)) / m)\n",
        "    return l\n",
        "  dw, db = jax.grad(logistic_loss, (0, 1))(w1, b1, x, y)\n",
        "  return dw, db, logistic_loss(w1, b1, x, y)\n",
        "\n",
        "def train_jax(epochs, lr, x, y):\n",
        "  w1 = jnp.zeros((x.shape[0], 1))\n",
        "  b1 = 0.\n",
        "\n",
        "  for i in range(epochs):\n",
        "    dw, db, loss = train_step(w1, b1, x, y)\n",
        "    if i % 100 == 0:\n",
        "      print(loss)\n",
        "    w1 = w1 - (lr * dw)\n",
        "    b1 = b1 - (lr * db)\n",
        "\n",
        "  return w1, b1"
      ],
      "metadata": {
        "id": "weY8bIQb02uO"
      },
      "execution_count": 7,
      "outputs": []
    },
    {
      "cell_type": "code",
      "source": [
        "w1_jax, b1_jax = train_jax(2000, 0.005, x_train_norm, y_train_orig) # GPU: 1.46 sec at best"
      ],
      "metadata": {
        "colab": {
          "base_uri": "https://localhost:8080/"
        },
        "id": "HqSVchm9mYH0",
        "outputId": "154f6c16-ab3f-4631-f83d-424a5baa31d1"
      },
      "execution_count": 44,
      "outputs": [
        {
          "output_type": "stream",
          "name": "stdout",
          "text": [
            "0.6931472\n",
            "0.58450824\n",
            "0.46694893\n",
            "0.3760068\n",
            "0.3314633\n",
            "0.30327308\n",
            "0.2798796\n",
            "0.26004216\n",
            "0.24294068\n",
            "0.22800425\n",
            "0.21481954\n",
            "0.20307821\n",
            "0.1925443\n",
            "0.18303336\n",
            "0.1743986\n",
            "0.16652142\n",
            "0.15930453\n",
            "0.15266734\n",
            "0.14654225\n",
            "0.14087209\n"
          ]
        }
      ]
    },
    {
      "cell_type": "markdown",
      "source": [
        "# Manual Implementaiton\n",
        "\n",
        "This version uses no framework."
      ],
      "metadata": {
        "id": "ERxmuheWlr0c"
      }
    },
    {
      "cell_type": "code",
      "source": [
        "def train_manual(epochs, lr, x, y):\n",
        "  w1 = jnp.zeros((x.shape[0], 1))\n",
        "  b1 = 0.\n",
        "\n",
        "  for i in range(epochs):\n",
        "    m = x.shape[1]\n",
        "    a = sigmoid(jnp.dot(w1.T, x) + b1)\n",
        "    e = a - y\n",
        "    l = -(jnp.sum(jnp.dot(y, jnp.log(a).T) + jnp.dot((1 - y), jnp.log(1 - a).T)) / m)\n",
        "    dw = jnp.dot(x, e.T) / x.shape[1]\n",
        "    db = jnp.sum(e) / x.shape[1]\n",
        "\n",
        "    if i % 100 == 0:\n",
        "      print(l)\n",
        "\n",
        "    w1 = w1 - (lr * dw)\n",
        "    b1 = b1 - (lr * db)\n",
        "\n",
        "  return w1, b1"
      ],
      "metadata": {
        "id": "ngtlQ7AIlqRG"
      },
      "execution_count": 45,
      "outputs": []
    },
    {
      "cell_type": "code",
      "source": [
        "w1, b1 = train_manual(2000, 0.005, x_train_norm, y_train_orig) # GPU: 7.6 sec at best"
      ],
      "metadata": {
        "id": "ZMaDqyBcBZh7",
        "colab": {
          "base_uri": "https://localhost:8080/"
        },
        "outputId": "99ad1926-d658-48d0-dfb1-1151d82fdfc8"
      },
      "execution_count": 46,
      "outputs": [
        {
          "output_type": "stream",
          "name": "stdout",
          "text": [
            "0.69314724\n",
            "0.5845084\n",
            "0.46694902\n",
            "0.37600687\n",
            "0.3314633\n",
            "0.30327308\n",
            "0.2798796\n",
            "0.26004216\n",
            "0.24294071\n",
            "0.22800425\n",
            "0.21481952\n",
            "0.20307821\n",
            "0.1925443\n",
            "0.18303336\n",
            "0.17439863\n",
            "0.16652142\n",
            "0.15930454\n",
            "0.15266734\n",
            "0.14654225\n",
            "0.14087209\n"
          ]
        }
      ]
    },
    {
      "cell_type": "markdown",
      "source": [
        "# Pytorch Implementaion"
      ],
      "metadata": {
        "id": "T-w2ZjrAnWnb"
      }
    },
    {
      "cell_type": "code",
      "source": [
        "import torch\n",
        "import torch.nn as nn\n",
        "import numpy as np\n",
        "\n",
        "class LogisticRegression(nn.Module):\n",
        "    def __init__(self, input_size):\n",
        "        super(LogisticRegression, self).__init__()\n",
        "        self.linear = nn.Linear(input_size, 1)\n",
        "\n",
        "    def forward(self, x):\n",
        "        a1 = self.linear(x)\n",
        "        return torch.sigmoid(a1)\n",
        "\n",
        "def train_torch(epochs, lr, x, y):\n",
        "    model = LogisticRegression(x.shape[1])\n",
        "    criterion = nn.BCELoss()\n",
        "    optimizer = torch.optim.SGD(model.parameters(), lr=lr)\n",
        "\n",
        "    for i in range(epochs):\n",
        "        optimizer.zero_grad()\n",
        "        outputs = model(x)\n",
        "        loss = criterion(outputs, y)\n",
        "        loss.backward()\n",
        "        optimizer.step()\n",
        "\n",
        "        if i % 100 == 0:\n",
        "            print(loss.item())"
      ],
      "metadata": {
        "id": "VshlFg-BDr6A"
      },
      "execution_count": 39,
      "outputs": []
    },
    {
      "cell_type": "code",
      "source": [
        "x_t = torch.from_numpy(np.array(x_train_norm[:])).float()\n",
        "y_t = torch.from_numpy(np.array(y_train_orig.T[:])).float()"
      ],
      "metadata": {
        "id": "umJRdei4eKcc"
      },
      "execution_count": 14,
      "outputs": []
    },
    {
      "cell_type": "code",
      "source": [
        "train_torch(2000, 0.005, x_t.t(), y_t) # GPU: 2.54 sec"
      ],
      "metadata": {
        "colab": {
          "base_uri": "https://localhost:8080/"
        },
        "id": "W4Ge5LgcedWN",
        "outputId": "4d3572e6-e962-4047-cdcd-7e903d08975f"
      },
      "execution_count": 40,
      "outputs": [
        {
          "output_type": "stream",
          "name": "stdout",
          "text": [
            "0.7193525433540344\n",
            "0.5815258622169495\n",
            "0.46418237686157227\n",
            "0.37420523166656494\n",
            "0.3310624361038208\n",
            "0.3029521703720093\n",
            "0.279619425535202\n",
            "0.2598297894001007\n",
            "0.24276676774024963\n",
            "0.22786135971546173\n",
            "0.21470172703266144\n",
            "0.20298083126544952\n",
            "0.1924634575843811\n",
            "0.18296600878238678\n",
            "0.1743420660495758\n",
            "0.16647396981716156\n",
            "0.15926435589790344\n",
            "0.15263323485851288\n",
            "0.1465131789445877\n",
            "0.14084717631340027\n"
          ]
        }
      ]
    },
    {
      "cell_type": "markdown",
      "source": [
        "# TensorFlow Implementaion"
      ],
      "metadata": {
        "id": "iF1nhrfWne7x"
      }
    },
    {
      "cell_type": "code",
      "source": [
        "import tensorflow as tf\n",
        "\n",
        "class LogisticRegression(tf.keras.Model):\n",
        "    def __init__(self, input_size):\n",
        "        super(LogisticRegression, self).__init__()\n",
        "        self.linear = tf.keras.layers.Dense(1, activation='linear')\n",
        "\n",
        "    def call(self, inputs):\n",
        "        a1 = self.linear(inputs)\n",
        "        return tf.sigmoid(a1)\n",
        "\n",
        "def train_tf_step(x, y, model, criterion, optimizer, i):\n",
        "    with tf.GradientTape() as tape:\n",
        "              outputs = model(x)\n",
        "              loss = criterion(y, outputs)\n",
        "    gradients = tape.gradient(loss, model.trainable_variables)\n",
        "    optimizer.apply_gradients(zip(gradients, model.trainable_variables))\n",
        "\n",
        "    if i % 100 == 0:\n",
        "        print(loss.numpy())\n",
        "\n",
        "def train_tf(epochs, lr, x, y):\n",
        "    model = LogisticRegression(x.shape[1])\n",
        "    criterion = tf.keras.losses.BinaryCrossentropy()\n",
        "    optimizer = tf.keras.optimizers.SGD(learning_rate=lr)\n",
        "\n",
        "    for i in range(epochs):\n",
        "        train_tf_step(x, y, model, criterion, optimizer, i)"
      ],
      "metadata": {
        "id": "UgrRJMIKsD4m"
      },
      "execution_count": 36,
      "outputs": []
    },
    {
      "cell_type": "code",
      "source": [
        "train_tf(2000, 0.005, tf.convert_to_tensor(x_train_norm.T), tf.convert_to_tensor(y_train_orig.T)) # GPU: 22.4 sec !!"
      ],
      "metadata": {
        "colab": {
          "base_uri": "https://localhost:8080/"
        },
        "id": "Ud59_3j5gF73",
        "outputId": "6c21f914-4674-4ff1-da01-8af43a733c96"
      },
      "execution_count": 37,
      "outputs": [
        {
          "output_type": "stream",
          "name": "stdout",
          "text": [
            "0.6556897\n",
            "0.58804363\n",
            "0.47046772\n",
            "0.3791087\n",
            "0.3338617\n",
            "0.3052979\n",
            "0.28162754\n",
            "0.26157457\n",
            "0.24429962\n",
            "0.22921997\n",
            "0.2159148\n",
            "0.20407063\n",
            "0.19344781\n",
            "0.18385929\n",
            "0.17515627\n",
            "0.16721858\n",
            "0.15994783\n",
            "0.15326245\n",
            "0.14709409\n",
            "0.14138488\n"
          ]
        }
      ]
    },
    {
      "cell_type": "markdown",
      "source": [
        "# Prediction"
      ],
      "metadata": {
        "id": "_k9rRd9-oUAa"
      }
    },
    {
      "cell_type": "code",
      "source": [
        "def pridict(w, b, i, msg):\n",
        "  x, y = x_test_norm[:, i], y_test_orig[0, i]\n",
        "  z = jnp.dot(w1.T, x) + b1\n",
        "  a = sigmoid(z)\n",
        "  plt.imshow(x_test_orig[i])\n",
        "  plt.title(f\"{msg} pred: {a[0]:.5f} real: {y}\")\n",
        "  plt.show()\n",
        "\n",
        "# pridict(w1, b1, 5, \"Manual\")\n",
        "pridict(w1_jax, b1_jax, 5, \"Jax\")"
      ],
      "metadata": {
        "colab": {
          "base_uri": "https://localhost:8080/",
          "height": 452
        },
        "id": "U9Qf5vSVn3Mm",
        "outputId": "3a7ad772-9b7a-4c76-98bd-7d293302f102"
      },
      "execution_count": 52,
      "outputs": [
        {
          "output_type": "display_data",
          "data": {
            "text/plain": [
              "<Figure size 640x480 with 1 Axes>"
            ],
            "image/png": "[encoded data removed]"
          },
          "metadata": {}
        }
      ]
    }
  ]
}